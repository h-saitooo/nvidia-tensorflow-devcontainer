{
 "cells": [
  {
   "cell_type": "code",
   "execution_count": null,
   "metadata": {},
   "outputs": [],
   "source": [
    "from utils.llama2 import Llama2\n",
    "\n",
    "prompt = \"How can I effectively fine-tune a Llama 2 model for a specific task, like text summarization or question answering, while minimizing computational resources?\"\n",
    "Llama2(prompt)"
   ]
  }
 ],
 "metadata": {
  "kernelspec": {
   "display_name": "Python 3 (ipykernel)",
   "language": "python",
   "name": "python3"
  }
 },
 "nbformat": 4,
 "nbformat_minor": 2
}
